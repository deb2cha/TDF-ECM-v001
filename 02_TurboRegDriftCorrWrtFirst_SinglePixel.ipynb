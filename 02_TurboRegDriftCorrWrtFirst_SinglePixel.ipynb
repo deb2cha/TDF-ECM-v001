{
 "cells": [
  {
   "cell_type": "code",
   "execution_count": 1,
   "metadata": {},
   "outputs": [],
   "source": [
    "import warnings; warnings.simplefilter('ignore')\n",
    "\n",
    "import numpy as np\n",
    "import matplotlib.pyplot as plt\n",
    "\n",
    "import skimage.io as tiffio\n",
    "from pystackreg import StackReg\n",
    "\n",
    "import pathlib\n",
    "import glob"
   ]
  },
  {
   "cell_type": "code",
   "execution_count": 2,
   "metadata": {},
   "outputs": [
    {
     "name": "stdout",
     "output_type": "stream",
     "text": [
      "/Volumes/GoogleDrive/My Drive/Debaditya Chatterjee/Data/ECM/20191112_ECM_PtCuNiP_246C_AmC_10nm_30um_obj/crop_align_wrt_first\n",
      "4000\n"
     ]
    }
   ],
   "source": [
    "read_path = r\"/Volumes/GoogleDrive/My Drive/Debaditya Chatterjee/Data/ECM/20191112_ECM_PtCuNiP_246C_AmC_10nm_30um_obj/crop_align_wrt_first\"\n",
    "read_path = read_path.replace(\"\\\\\",\"/\")\n",
    "\n",
    "print(read_path)\n",
    "\n",
    "tif_files = sorted(glob.glob(read_path+'/*.tif'))\n",
    "print(len(tif_files))"
   ]
  },
  {
   "cell_type": "code",
   "execution_count": 3,
   "metadata": {},
   "outputs": [],
   "source": [
    "#function to register stack w.r.t first image using TurboReg\n",
    "\n",
    "def register_stack_wrt_first(source_folder,dest_folder):\n",
    "    source_folder = source_folder.replace(\"\\\\\",\"/\")\n",
    "    print(source_folder)\n",
    "    dest_folder = dest_folder.replace(\"\\\\\",\"/\")\n",
    "    print(dest_folder)\n",
    "    \n",
    "    pathlib.Path(dest_folder).mkdir(parents=True, exist_ok=True)\n",
    "    \n",
    "    source_tifs = sorted(glob.glob(source_folder+'/*.tif'))\n",
    "    \n",
    "    source_tifs[0] = source_tifs[0].replace(\"\\\\\",\"/\")\n",
    "    \n",
    "    ref = tiffio.imread(source_tifs[0], plugin = 'tifffile')\n",
    "    \n",
    "    if (ref[0][0] >= 32768):\n",
    "        ref = ref - 32768\n",
    "    \n",
    "    sr = StackReg(StackReg.TRANSLATION)\n",
    "    \n",
    "    #for i in range(len(source_tifs)):\n",
    "    for i in range(4000):\n",
    "        \n",
    "        #source_tifs[i] = source_tifs[i].replace(\"\\\\\",\"/\")\n",
    "        source_file_name = source_tifs[0][:-(4+len(str(i)))]+str(i)+'.tif'\n",
    "        source_file_name = source_file_name.replace(\"\\\\\",\"/\")\n",
    "        mov = tiffio.imread(source_file_name, plugin = 'tifffile')\n",
    "        \n",
    "        if (mov[0][0] >= 32768):\n",
    "            mov = mov - 32768\n",
    "        \n",
    "        #out_tra = sr.register_transform(ref, mov)\n",
    "        \n",
    "        #calculate transformation matrix\n",
    "        transformation_sub_pix = sr.register(ref, mov)\n",
    "        \n",
    "        transformation_pix = np.around(transformation_sub_pix).astype(np.int16)\n",
    "        \n",
    "        out_tra = sr.transform(mov, tmat=transformation_pix)\n",
    "\n",
    "        \n",
    "        out_tra = np.round(out_tra).astype(np.int16)\n",
    "        \n",
    "        #tiffio.imsave(dest_folder+'/'+'reg_prev_'+source_tifs[i].split('/')[-1], out_tra, plugin='tifffile')\n",
    "        tiffio.imsave(dest_folder+'/'+'reg_first_'+source_file_name.split('/')[-1], out_tra, plugin='tifffile')\n",
    "        \n",
    "        if(i%500 == 0):\n",
    "            print(i,\" images aligned\")\n",
    "            "
   ]
  },
  {
   "cell_type": "code",
   "execution_count": 4,
   "metadata": {},
   "outputs": [
    {
     "name": "stdout",
     "output_type": "stream",
     "text": [
      "/Volumes/GoogleDrive/My Drive/Debaditya Chatterjee/Data/ECM/20191112_ECM_PtCuNiP_246C_AmC_10nm_30um_obj/crop_align_wrt_first\n",
      "/Volumes/GoogleDrive/My Drive/Debaditya Chatterjee/Data/ECM/20191112_ECM_PtCuNiP_246C_AmC_10nm_30um_obj/align_wrt_first_crop_align_wrt_first\n",
      "0  images aligned\n",
      "500  images aligned\n",
      "1000  images aligned\n",
      "1500  images aligned\n",
      "2000  images aligned\n",
      "2500  images aligned\n",
      "3000  images aligned\n",
      "3500  images aligned\n"
     ]
    }
   ],
   "source": [
    "save_path = r\"/Volumes/GoogleDrive/My Drive/Debaditya Chatterjee/Data/ECM/20191112_ECM_PtCuNiP_246C_AmC_10nm_30um_obj/align_wrt_first_crop_align_wrt_first\"\n",
    "\n",
    "register_stack_wrt_first(read_path,save_path)"
   ]
  }
 ],
 "metadata": {
  "kernelspec": {
   "display_name": "Python 3",
   "language": "python",
   "name": "python3"
  },
  "language_info": {
   "codemirror_mode": {
    "name": "ipython",
    "version": 3
   },
   "file_extension": ".py",
   "mimetype": "text/x-python",
   "name": "python",
   "nbconvert_exporter": "python",
   "pygments_lexer": "ipython3",
   "version": "3.7.6"
  }
 },
 "nbformat": 4,
 "nbformat_minor": 2
}
