{
 "cells": [
  {
   "cell_type": "code",
   "execution_count": 1,
   "metadata": {},
   "outputs": [],
   "source": [
    "import numpy as np\n",
    "import matplotlib.pyplot as plt\n",
    "import skimage.io as tiffio\n",
    "from pathlib import Path\n",
    "import glob\n",
    "from scipy.optimize import curve_fit\n",
    "import time"
   ]
  },
  {
   "cell_type": "code",
   "execution_count": 2,
   "metadata": {},
   "outputs": [
    {
     "name": "stdout",
     "output_type": "stream",
     "text": [
      "/Volumes/GoogleDrive/My Drive/Debaditya Chatterjee/Data/ECM/20191112_ECM_PtCuNiP_246C_AmC_10nm_30um_obj/twice_crop_align_wrt_first\n",
      "4000\n"
     ]
    }
   ],
   "source": [
    "#copying path from windows file explorer gives backslashes.. this is accounted for in the \"replace\" line\n",
    "#the r before a windows path is essential.. It reads \\ in raw formatting and makes life easier\n",
    "#do NOT add a \\ at the end of the path.. results in End of Line error. / is added to the complete file path while reading images\n",
    "#prints corrected input folder path and displays number of .tif files in folder\n",
    "read_path = r\"/Volumes/GoogleDrive/My Drive/Debaditya Chatterjee/Data/ECM/20191112_ECM_PtCuNiP_246C_AmC_10nm_30um_obj/twice_crop_align_wrt_first\"\n",
    "#change \\ to / in Windows file paths\n",
    "read_path = read_path.replace(\"\\\\\", \"/\")\n",
    "\n",
    "print(read_path)\n",
    "print(len(glob.glob(read_path+\"/*.tif\")))"
   ]
  },
  {
   "cell_type": "code",
   "execution_count": 3,
   "metadata": {
    "scrolled": true
   },
   "outputs": [
    {
     "name": "stdout",
     "output_type": "stream",
     "text": [
      "(631, 861)\n"
     ]
    },
    {
     "data": {
      "image/png": "[encoded data removed]",
      "text/plain": [
       "<Figure size 432x288 with 1 Axes>"
      ]
     },
     "metadata": {
      "needs_background": "light"
     },
     "output_type": "display_data"
    }
   ],
   "source": [
    "#loads ROI mask and displays it\n",
    "#while loading mask it is converted to bool data type as it is imported into float by default. bool makes it easy to delete\n",
    "#non-ROI data later\n",
    "\n",
    "def load_mask(ROI_text_file):\n",
    "    mask = np.loadtxt(ROI_text_file, unpack = True).astype(np.bool)\n",
    "    return mask\n",
    "\n",
    "ROI = load_mask(\"ROI_w_C_python.itx\")\n",
    "print(ROI.shape)\n",
    "plt.imshow(ROI)\n",
    "#plt.colorbar() #colorbar does not work for bool datatype\n",
    "plt.show()"
   ]
  },
  {
   "cell_type": "code",
   "execution_count": 4,
   "metadata": {},
   "outputs": [],
   "source": [
    "#loads pixel intensity time series from all images and saves it as a datacube (x,y,t)\n",
    "\n",
    "#function to load single .tif into memory\n",
    "def load_tif(filename):\n",
    "    loaded_tif = tiffio.imread(filename, plugin='tifffile')\n",
    "    return loaded_tif\n",
    "\n",
    "#function to load pixel intensity time series from all images in given folder and return datacube (x,y,t)\n",
    "def data_from_tiff_folder(folderpath, verbose = True):\n",
    "    file_names = sorted(glob.glob(folderpath+\"/*.tif\")) #list of tif files in folderpath directory\n",
    "    \n",
    "    (x,y) = load_tif(file_names[0]).shape\n",
    "    t = len(file_names) #t here is number of frames\n",
    "    \n",
    "    if verbose:\n",
    "        print(f\"Loading {t} tifs from {folderpath}\")\n",
    "        \n",
    "        \n",
    "    #int16 takes 4 times less space than float. Do not use uint16 as 'u' saturates pixels with negative intensity that arise\n",
    "    #from drift correction\n",
    "    data = np.zeros((x,y,t), dtype = np.int16) \n",
    "    \n",
    "    for i, fn in enumerate(file_names):\n",
    "        data[:,:,i] = load_tif(fn)\n",
    "        if verbose and i%1000 == 0:\n",
    "            print(i)\n",
    "            \n",
    "    if verbose:\n",
    "        print(\"Finished loading data\")\n",
    "        \n",
    "    return data"
   ]
  },
  {
   "cell_type": "code",
   "execution_count": 5,
   "metadata": {},
   "outputs": [
    {
     "name": "stdout",
     "output_type": "stream",
     "text": [
      "Loading 4000 tifs from /Volumes/GoogleDrive/My Drive/Debaditya Chatterjee/Data/ECM/20191112_ECM_PtCuNiP_246C_AmC_10nm_30um_obj/twice_crop_align_wrt_first\n",
      "0\n",
      "1000\n",
      "2000\n",
      "3000\n",
      "Finished loading data\n"
     ]
    }
   ],
   "source": [
    "data = data_from_tiff_folder(read_path)"
   ]
  },
  {
   "cell_type": "code",
   "execution_count": 6,
   "metadata": {},
   "outputs": [],
   "source": [
    "#after loading data we need to generate t_resampled values and calculate g2_rs\n",
    "#the following functions calculate t_rs, and g2 for given intensity array\n",
    "\n",
    "#t_rs calculating function that runs from dt to (expt time - dt), e.g. from 0.1 to 399.9\n",
    "def t_resampled(t_size,dt,t_rs_size):\n",
    "    t_rs = np.zeros(t_rs_size, dtype = np.float)\n",
    "    \n",
    "    for i in range(t_rs_size):\n",
    "        t_rs[i] = np.power(10, np.log10(dt) + np.log10(t_size - 1)*i/(t_rs_size - 1))\n",
    "        \n",
    "    return t_rs\n",
    "\n",
    "#calculates g2 for given intensity array and integer lag\n",
    "def calc_g2_lag(I_t,lag):\n",
    "    I_size = len(I_t)\n",
    "    g2_lag = np.mean(I_t[lag:]*I_t[0:(I_size - lag)])/(np.mean(I_t[lag:])*np.mean(I_t[0:(I_size - lag)]))\n",
    "    return g2_lag\n",
    "\n",
    "#calculate g2 for lag = floor(t_rs/dt) and lag = ceil(t_rs/dt) and interpolate the value of g2(t_rs).. this is done implicitly\n",
    "#in Igor\n",
    "#write a function that will accept Intensity array and fractional t. Return interpolated g2 value. Uses g2_lag function to do\n",
    "#the actual g2 calculation\n",
    "#an addtional subtlety one needs to remember is that the multiplication factor in g2 interpolation is (t/dt - lag_low) and not\n",
    "#(t - lag_low*dt) as the former falls in [0,1] while the latter falls in [0,dt]. We need a multiplication factor\n",
    "#independent of dt.\n",
    "def g2_t(I_t,t,dt):\n",
    "    lag_low = int(np.floor(t/dt))\n",
    "    lag_high = int(np.ceil (t/dt))\n",
    "    \n",
    "    g2_low = calc_g2_lag(I_t,lag_low)\n",
    "    g2_high = calc_g2_lag(I_t,lag_high)\n",
    "    #g2_t = g2_low + (g2_high - g2_low)*(t - lag_low*dt)\n",
    "    g2_t = g2_low + (g2_high - g2_low)*(t/dt - lag_low)\n",
    "    \n",
    "    #print(lag_low,lag_high,g2_low,g2_high,g2_t)\n",
    "    \n",
    "    return g2_t\n",
    "\n",
    "#after calculation of g2_t need to perform curve fitting to extract fitting parameters (A,tau,beta) and estimate fitting error\n",
    "#from the magnitude of the normalized standard deviations obtained from pcov\n",
    "def KWW_curve(t, A, tau, beta):\n",
    "    return 1 + A*np.exp(-2*np.power((t/tau),beta))\n",
    "\n",
    "#the curve fitting function accepts I_t,dt,M(size of t_rs array) and performs curvefitting\n",
    "#returns fitting parameters and combined fitting error\n",
    "def KWW_fitting(I_t,dt,M):\n",
    "    \n",
    "    size = len(I_t)\n",
    "    \n",
    "    t_rs = t_resampled(size,dt,M)\n",
    "    g2_rs = calc_g2_rs(I_t,t_rs,dt)\n",
    "    \n",
    "    popt, pcov = curve_fit(KWW_curve, t_rs, g2_rs, p0 = [g2_rs[0]-1,200*dt,1])\n",
    "    perr = np.sqrt(np.diag(pcov))\n",
    "    error = np.sqrt((perr/popt).dot(perr/popt))\n",
    "    \n",
    "    return popt,error"
   ]
  },
  {
   "cell_type": "code",
   "execution_count": 7,
   "metadata": {},
   "outputs": [],
   "source": [
    "#function to calculate datacube containing g2_rs[x][y] = g2(t) for every pixel\n",
    "#takes datacube I(x,y,t), mask ROI(x,y), dt, t and returns g2(x,y,t)\n",
    "#can be used for any t array containing time series (actual or resammpled). However, calculating g2 for the fully sampled t\n",
    "#series can be time consuming and unnecessary\n",
    "\n",
    "def g2_data(data,mask,dt,t):\n",
    "    (x,y) = mask.shape\n",
    "    z = t.size\n",
    "    \n",
    "    g2_data = np.zeros((x,y,z), dtype = np.float)\n",
    "    g2_data[~mask,:] = np.nan\n",
    "    \n",
    "    print(mask.shape)\n",
    "    \n",
    "    #loop to extract I_t from each pixel and pass it through g2_t function. It is essential to cast the intensity array (that is\n",
    "    #in uint16 datatype) to float before passing it to g2 the calculating function\n",
    "    for i in range(x):\n",
    "        for j in range(y):\n",
    "            if (((i*y + j)/(x*y)*100)%10 == 0):\n",
    "                print(\"Progress%=\",((i*y + j)/(x*y)*100))\n",
    "            if (mask[i][j]):\n",
    "                #print(i,j)\n",
    "                for k,t_k in enumerate(t):\n",
    "                    g2_data[i][j][k] = g2_t(data[i][j].astype('float'),t_k,dt)\n",
    "                    \n",
    "    return g2_data\n",
    "\n",
    "#function to calculate fitting parameters and fitting error for every pixel"
   ]
  },
  {
   "cell_type": "code",
   "execution_count": 9,
   "metadata": {},
   "outputs": [
    {
     "name": "stdout",
     "output_type": "stream",
     "text": [
      "(631, 861)\n",
      "Progress%= 0.0\n",
      "Duration = 5461.2105848789215\n"
     ]
    }
   ],
   "source": [
    "start = time.time()\n",
    "\n",
    "t_rs = t_resampled(4000,0.25,200)\n",
    "\n",
    "g2_rs = g2_data(data, ROI, 0.25, t_rs)\n",
    "\n",
    "end = time.time()\n",
    "print(f\"Duration = {end - start}\")"
   ]
  },
  {
   "cell_type": "code",
   "execution_count": 12,
   "metadata": {},
   "outputs": [
    {
     "data": {
      "text/plain": [
       "(390, 880, 200)"
      ]
     },
     "execution_count": 12,
     "metadata": {},
     "output_type": "execute_result"
    }
   ],
   "source": [
    "g2_rs.shape"
   ]
  },
  {
   "cell_type": "code",
   "execution_count": 11,
   "metadata": {},
   "outputs": [
    {
     "data": {
      "text/plain": [
       "array([1.00000000e-01, 1.04255808e-01, 1.08692735e-01, 1.13318489e-01,\n",
       "       1.18141106e-01, 1.23168965e-01, 1.28410799e-01, 1.33875717e-01,\n",
       "       1.39573210e-01, 1.45513178e-01, 1.51705939e-01, 1.58162252e-01,\n",
       "       1.64893334e-01, 1.71910878e-01, 1.79227075e-01, 1.86854635e-01,\n",
       "       1.94806809e-01, 2.03097413e-01, 2.11740849e-01, 2.20752133e-01,\n",
       "       2.30146919e-01, 2.39941530e-01, 2.50152981e-01, 2.60799012e-01,\n",
       "       2.71898117e-01, 2.83469578e-01, 2.95533499e-01, 3.08110837e-01,\n",
       "       3.21223443e-01, 3.34894096e-01, 3.49146545e-01, 3.64005552e-01,\n",
       "       3.79496929e-01, 3.95647590e-01, 4.12485591e-01, 4.30040186e-01,\n",
       "       4.48341870e-01, 4.67422439e-01, 4.87315041e-01, 5.08054233e-01,\n",
       "       5.29676045e-01, 5.52218041e-01, 5.75719380e-01, 6.00220891e-01,\n",
       "       6.25765140e-01, 6.52396502e-01, 6.80161245e-01, 7.09107601e-01,\n",
       "       7.39285859e-01, 7.70748445e-01, 8.03550019e-01, 8.37747564e-01,\n",
       "       8.73400492e-01, 9.10570740e-01, 9.49322882e-01, 9.89724240e-01,\n",
       "       1.03184500e+00, 1.07575835e+00, 1.12154055e+00, 1.16927117e+00,\n",
       "       1.21903310e+00, 1.27091281e+00, 1.32500042e+00, 1.38138989e+00,\n",
       "       1.44017919e+00, 1.50147045e+00, 1.56537015e+00, 1.63198930e+00,\n",
       "       1.70144363e+00, 1.77385380e+00, 1.84934561e+00, 1.92805021e+00,\n",
       "       2.01010433e+00, 2.09565051e+00, 2.18483737e+00, 2.27781985e+00,\n",
       "       2.37475949e+00, 2.47582469e+00, 2.58119104e+00, 2.69104157e+00,\n",
       "       2.80556713e+00, 2.92496668e+00, 3.04944765e+00, 3.17922628e+00,\n",
       "       3.31452805e+00, 3.45558799e+00, 3.60265118e+00, 3.75597310e+00,\n",
       "       3.91582010e+00, 4.08246989e+00, 4.25621196e+00, 4.43734817e+00,\n",
       "       4.62619319e+00, 4.82307509e+00, 5.02833590e+00, 5.24233222e+00,\n",
       "       5.46543581e+00, 5.69803426e+00, 5.94053166e+00, 6.19334928e+00,\n",
       "       6.45692633e+00, 6.73172071e+00, 7.01820982e+00, 7.31689135e+00,\n",
       "       7.62828419e+00, 7.95292932e+00, 8.29139072e+00, 8.64425639e+00,\n",
       "       9.01213934e+00, 9.39567868e+00, 9.79554072e+00, 1.02124201e+01,\n",
       "       1.06470411e+01, 1.11001587e+01, 1.15725602e+01, 1.20650661e+01,\n",
       "       1.25785322e+01, 1.31138503e+01, 1.36719506e+01, 1.42538026e+01,\n",
       "       1.48604170e+01, 1.54928478e+01, 1.61521937e+01, 1.68396000e+01,\n",
       "       1.75562611e+01, 1.83034218e+01, 1.90823803e+01, 1.98944898e+01,\n",
       "       2.07411611e+01, 2.16238650e+01, 2.25441352e+01, 2.35035703e+01,\n",
       "       2.45038371e+01, 2.55466734e+01, 2.66338907e+01, 2.77673780e+01,\n",
       "       2.89491043e+01, 3.01811225e+01, 3.14655732e+01, 3.28046875e+01,\n",
       "       3.42007920e+01, 3.56563121e+01, 3.71737762e+01, 3.87558208e+01,\n",
       "       4.04051941e+01, 4.21247615e+01, 4.39175105e+01, 4.57865554e+01,\n",
       "       4.77351433e+01, 4.97666593e+01, 5.18846327e+01, 5.40927431e+01,\n",
       "       5.63948263e+01, 5.87948818e+01, 6.12970791e+01, 6.39057651e+01,\n",
       "       6.66254717e+01, 6.94609238e+01, 7.24170473e+01, 7.54989778e+01,\n",
       "       7.87120693e+01, 8.20619038e+01, 8.55543008e+01, 8.91953276e+01,\n",
       "       9.29913094e+01, 9.69488410e+01, 1.01074797e+02, 1.05376347e+02,\n",
       "       1.09860962e+02, 1.14536433e+02, 1.19410884e+02, 1.24492782e+02,\n",
       "       1.29790956e+02, 1.35314609e+02, 1.41073339e+02, 1.47077150e+02,\n",
       "       1.53336471e+02, 1.59862176e+02, 1.66665604e+02, 1.73758572e+02,\n",
       "       1.81153403e+02, 1.88862944e+02, 1.96900588e+02, 2.05280299e+02,\n",
       "       2.14016634e+02, 2.23124771e+02, 2.32620533e+02, 2.42520416e+02,\n",
       "       2.52841619e+02, 2.63602073e+02, 2.74820471e+02, 2.86516302e+02,\n",
       "       2.98709886e+02, 3.11422405e+02, 3.24675944e+02, 3.38493529e+02,\n",
       "       3.52899164e+02, 3.67917874e+02, 3.83575753e+02, 3.99900000e+02])"
      ]
     },
     "execution_count": 11,
     "metadata": {},
     "output_type": "execute_result"
    }
   ],
   "source": [
    "t_rs"
   ]
  },
  {
   "cell_type": "code",
   "execution_count": 14,
   "metadata": {},
   "outputs": [
    {
     "data": {
      "text/plain": [
       "[]"
      ]
     },
     "execution_count": 14,
     "metadata": {},
     "output_type": "execute_result"
    },
    {
     "data": {
      "image/png": "[encoded data removed]",
      "text/plain": [
       "<Figure size 432x288 with 1 Axes>"
      ]
     },
     "metadata": {
      "needs_background": "light"
     },
     "output_type": "display_data"
    }
   ],
   "source": [
    "plt.plot(t_rs,g2_rs[350,200],'.')\n",
    "plt.semilogx()"
   ]
  },
  {
   "cell_type": "code",
   "execution_count": 21,
   "metadata": {},
   "outputs": [],
   "source": [
    "#write function to normalize full 3D g2(x,y,t) to (g2 - 1)/A\n",
    "def normalize_g2(g2):\n",
    "    x,y,z = g2.shape\n",
    "    \n",
    "    g2_norm = np.zeros(g2.shape, dtype = np.float)\n",
    "    \n",
    "    for i in range(x):\n",
    "        for j in range(y):\n",
    "            if (((i*y + j)/(x*y)*100)%10 == 0):\n",
    "                print(\"Progress%=\",((i*y + j)/(x*y)*100))\n",
    "            if g2[i][j][0]:\n",
    "                g2_norm[i][j] = (g2[i][j] - 1)/(g2[i][j][0] - 1)\n",
    "            else:\n",
    "                g2_norm[i][j][:] = np.nan\n",
    "                \n",
    "    return g2_norm"
   ]
  },
  {
   "cell_type": "code",
   "execution_count": 22,
   "metadata": {},
   "outputs": [
    {
     "name": "stdout",
     "output_type": "stream",
     "text": [
      "Progress%= 0.0\n",
      "Progress%= 10.0\n",
      "Progress%= 20.0\n",
      "Progress%= 30.0\n",
      "Progress%= 40.0\n",
      "Progress%= 50.0\n",
      "Progress%= 60.0\n",
      "Progress%= 70.0\n",
      "Progress%= 80.0\n",
      "Progress%= 90.0\n"
     ]
    }
   ],
   "source": [
    "g2_rs_norm = normalize_g2(g2_rs)"
   ]
  },
  {
   "cell_type": "code",
   "execution_count": 23,
   "metadata": {},
   "outputs": [
    {
     "data": {
      "text/plain": [
       "[]"
      ]
     },
     "execution_count": 23,
     "metadata": {},
     "output_type": "execute_result"
    },
    {
     "data": {
      "image/png": "[encoded data removed]",
      "text/plain": [
       "<Figure size 432x288 with 1 Axes>"
      ]
     },
     "metadata": {
      "needs_background": "light"
     },
     "output_type": "display_data"
    }
   ],
   "source": [
    "plt.plot(t_rs, g2_rs_norm[370], '.')\n",
    "plt.semilogx()"
   ]
  },
  {
   "cell_type": "code",
   "execution_count": 24,
   "metadata": {},
   "outputs": [],
   "source": [
    "np.save(\"g2_rs_norm\", g2_rs_norm) #saves binary file with normalized g2 values"
   ]
  },
  {
   "cell_type": "code",
   "execution_count": 10,
   "metadata": {},
   "outputs": [],
   "source": [
    "np.save(\"g2_rs\",g2_rs) #saves binary file with g2 values"
   ]
  }
 ],
 "metadata": {
  "kernelspec": {
   "display_name": "Python 3",
   "language": "python",
   "name": "python3"
  },
  "language_info": {
   "codemirror_mode": {
    "name": "ipython",
    "version": 3
   },
   "file_extension": ".py",
   "mimetype": "text/x-python",
   "name": "python",
   "nbconvert_exporter": "python",
   "pygments_lexer": "ipython3",
   "version": "3.7.6"
  }
 },
 "nbformat": 4,
 "nbformat_minor": 2
}
